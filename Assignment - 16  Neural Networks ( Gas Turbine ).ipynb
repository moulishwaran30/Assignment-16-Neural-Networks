{
 "cells": [
  {
   "cell_type": "markdown",
   "id": "70ac5225",
   "metadata": {},
   "source": [
    "# Assignment - 16  Neural Networks ( Gas Turbine )"
   ]
  },
  {
   "cell_type": "markdown",
   "id": "ed67c247",
   "metadata": {},
   "source": [
    "## Import Necessary Libraries"
   ]
  },
  {
   "cell_type": "code",
   "execution_count": 1,
   "id": "679473a8",
   "metadata": {},
   "outputs": [
    {
     "name": "stdout",
     "output_type": "stream",
     "text": [
      "Requirement already satisfied: tensorflow in c:\\users\\admin\\anaconda3\\lib\\site-packages (2.9.1)\n",
      "Requirement already satisfied: h5py>=2.9.0 in c:\\users\\admin\\anaconda3\\lib\\site-packages (from tensorflow) (3.6.0)\n",
      "Requirement already satisfied: grpcio<2.0,>=1.24.3 in c:\\users\\admin\\anaconda3\\lib\\site-packages (from tensorflow) (1.42.0)\n",
      "Requirement already satisfied: packaging in c:\\users\\admin\\anaconda3\\lib\\site-packages (from tensorflow) (21.3)\n",
      "Requirement already satisfied: protobuf<3.20,>=3.9.2 in c:\\users\\admin\\anaconda3\\lib\\site-packages (from tensorflow) (3.19.1)\n",
      "Requirement already satisfied: tensorflow-estimator<2.10.0,>=2.9.0rc0 in c:\\users\\admin\\anaconda3\\lib\\site-packages (from tensorflow) (2.9.0)\n",
      "Requirement already satisfied: keras<2.10.0,>=2.9.0rc0 in c:\\users\\admin\\anaconda3\\lib\\site-packages (from tensorflow) (2.9.0)\n",
      "Requirement already satisfied: typing-extensions>=3.6.6 in c:\\users\\admin\\anaconda3\\lib\\site-packages (from tensorflow) (4.1.1)\n",
      "Requirement already satisfied: numpy>=1.20 in c:\\users\\admin\\anaconda3\\lib\\site-packages (from tensorflow) (1.21.5)\n",
      "Requirement already satisfied: libclang>=13.0.0 in c:\\users\\admin\\anaconda3\\lib\\site-packages (from tensorflow) (14.0.6)\n",
      "Requirement already satisfied: flatbuffers<2,>=1.12 in c:\\users\\admin\\anaconda3\\lib\\site-packages (from tensorflow) (1.12)\n",
      "Requirement already satisfied: opt-einsum>=2.3.2 in c:\\users\\admin\\anaconda3\\lib\\site-packages (from tensorflow) (3.3.0)\n",
      "Requirement already satisfied: tensorboard<2.10,>=2.9 in c:\\users\\admin\\anaconda3\\lib\\site-packages (from tensorflow) (2.9.1)\n",
      "Requirement already satisfied: six>=1.12.0 in c:\\users\\admin\\anaconda3\\lib\\site-packages (from tensorflow) (1.16.0)\n",
      "Requirement already satisfied: keras-preprocessing>=1.1.1 in c:\\users\\admin\\anaconda3\\lib\\site-packages (from tensorflow) (1.1.2)\n",
      "Requirement already satisfied: setuptools in c:\\users\\admin\\anaconda3\\lib\\site-packages (from tensorflow) (61.2.0)\n",
      "Requirement already satisfied: gast<=0.4.0,>=0.2.1 in c:\\users\\admin\\anaconda3\\lib\\site-packages (from tensorflow) (0.4.0)\n",
      "Requirement already satisfied: astunparse>=1.6.0 in c:\\users\\admin\\anaconda3\\lib\\site-packages (from tensorflow) (1.6.3)\n",
      "Requirement already satisfied: wrapt>=1.11.0 in c:\\users\\admin\\anaconda3\\lib\\site-packages (from tensorflow) (1.12.1)\n",
      "Requirement already satisfied: absl-py>=1.0.0 in c:\\users\\admin\\anaconda3\\lib\\site-packages (from tensorflow) (1.2.0)\n",
      "Requirement already satisfied: tensorflow-io-gcs-filesystem>=0.23.1 in c:\\users\\admin\\anaconda3\\lib\\site-packages (from tensorflow) (0.26.0)\n",
      "Requirement already satisfied: google-pasta>=0.1.1 in c:\\users\\admin\\anaconda3\\lib\\site-packages (from tensorflow) (0.2.0)\n",
      "Requirement already satisfied: termcolor>=1.1.0 in c:\\users\\admin\\anaconda3\\lib\\site-packages (from tensorflow) (1.1.0)\n",
      "Requirement already satisfied: wheel<1.0,>=0.23.0 in c:\\users\\admin\\anaconda3\\lib\\site-packages (from astunparse>=1.6.0->tensorflow) (0.37.1)\n",
      "Requirement already satisfied: werkzeug>=1.0.1 in c:\\users\\admin\\anaconda3\\lib\\site-packages (from tensorboard<2.10,>=2.9->tensorflow) (2.0.3)\n",
      "Requirement already satisfied: google-auth-oauthlib<0.5,>=0.4.1 in c:\\users\\admin\\anaconda3\\lib\\site-packages (from tensorboard<2.10,>=2.9->tensorflow) (0.4.6)\n",
      "Requirement already satisfied: google-auth<3,>=1.6.3 in c:\\users\\admin\\anaconda3\\lib\\site-packages (from tensorboard<2.10,>=2.9->tensorflow) (1.33.0)\n",
      "Requirement already satisfied: requests<3,>=2.21.0 in c:\\users\\admin\\anaconda3\\lib\\site-packages (from tensorboard<2.10,>=2.9->tensorflow) (2.27.1)\n",
      "Requirement already satisfied: tensorboard-data-server<0.7.0,>=0.6.0 in c:\\users\\admin\\anaconda3\\lib\\site-packages (from tensorboard<2.10,>=2.9->tensorflow) (0.6.1)\n",
      "Requirement already satisfied: tensorboard-plugin-wit>=1.6.0 in c:\\users\\admin\\anaconda3\\lib\\site-packages (from tensorboard<2.10,>=2.9->tensorflow) (1.8.1)\n",
      "Requirement already satisfied: markdown>=2.6.8 in c:\\users\\admin\\anaconda3\\lib\\site-packages (from tensorboard<2.10,>=2.9->tensorflow) (3.3.4)\n",
      "Requirement already satisfied: pyasn1-modules>=0.2.1 in c:\\users\\admin\\anaconda3\\lib\\site-packages (from google-auth<3,>=1.6.3->tensorboard<2.10,>=2.9->tensorflow) (0.2.8)\n",
      "Requirement already satisfied: rsa<5,>=3.1.4 in c:\\users\\admin\\anaconda3\\lib\\site-packages (from google-auth<3,>=1.6.3->tensorboard<2.10,>=2.9->tensorflow) (4.7.2)\n",
      "Requirement already satisfied: cachetools<5.0,>=2.0.0 in c:\\users\\admin\\anaconda3\\lib\\site-packages (from google-auth<3,>=1.6.3->tensorboard<2.10,>=2.9->tensorflow) (4.2.2)\n",
      "Requirement already satisfied: requests-oauthlib>=0.7.0 in c:\\users\\admin\\anaconda3\\lib\\site-packages (from google-auth-oauthlib<0.5,>=0.4.1->tensorboard<2.10,>=2.9->tensorflow) (1.3.1)\n",
      "Requirement already satisfied: pyasn1<0.5.0,>=0.4.6 in c:\\users\\admin\\anaconda3\\lib\\site-packages (from pyasn1-modules>=0.2.1->google-auth<3,>=1.6.3->tensorboard<2.10,>=2.9->tensorflow) (0.4.8)\n",
      "Requirement already satisfied: certifi>=2017.4.17 in c:\\users\\admin\\anaconda3\\lib\\site-packages (from requests<3,>=2.21.0->tensorboard<2.10,>=2.9->tensorflow) (2021.10.8)\n",
      "Requirement already satisfied: urllib3<1.27,>=1.21.1 in c:\\users\\admin\\anaconda3\\lib\\site-packages (from requests<3,>=2.21.0->tensorboard<2.10,>=2.9->tensorflow) (1.26.9)\n",
      "Requirement already satisfied: idna<4,>=2.5 in c:\\users\\admin\\anaconda3\\lib\\site-packages (from requests<3,>=2.21.0->tensorboard<2.10,>=2.9->tensorflow) (3.3)\n",
      "Requirement already satisfied: charset-normalizer~=2.0.0 in c:\\users\\admin\\anaconda3\\lib\\site-packages (from requests<3,>=2.21.0->tensorboard<2.10,>=2.9->tensorflow) (2.0.4)\n",
      "Requirement already satisfied: oauthlib>=3.0.0 in c:\\users\\admin\\anaconda3\\lib\\site-packages (from requests-oauthlib>=0.7.0->google-auth-oauthlib<0.5,>=0.4.1->tensorboard<2.10,>=2.9->tensorflow) (3.2.0)\n",
      "Requirement already satisfied: pyparsing!=3.0.5,>=2.0.2 in c:\\users\\admin\\anaconda3\\lib\\site-packages (from packaging->tensorflow) (3.0.4)\n"
     ]
    }
   ],
   "source": [
    "!pip install tensorflow"
   ]
  },
  {
   "cell_type": "code",
   "execution_count": 2,
   "id": "571f1824",
   "metadata": {},
   "outputs": [],
   "source": [
    "import pandas as pd\n",
    "\n",
    "import matplotlib.pyplot as plt\n",
    "\n",
    "import seaborn as sns\n",
    "\n",
    "from sklearn.model_selection import train_test_split\n",
    "\n",
    "from keras.models import Sequential\n",
    "from keras.layers import Dense\n",
    " \n",
    "\n",
    "import warnings\n",
    "warnings.filterwarnings('ignore')"
   ]
  },
  {
   "cell_type": "markdown",
   "id": "39591f12",
   "metadata": {},
   "source": [
    "## Import Data"
   ]
  },
  {
   "cell_type": "code",
   "execution_count": 3,
   "id": "fef4a1f2",
   "metadata": {},
   "outputs": [
    {
     "data": {
      "text/html": [
       "<div>\n",
       "<style scoped>\n",
       "    .dataframe tbody tr th:only-of-type {\n",
       "        vertical-align: middle;\n",
       "    }\n",
       "\n",
       "    .dataframe tbody tr th {\n",
       "        vertical-align: top;\n",
       "    }\n",
       "\n",
       "    .dataframe thead th {\n",
       "        text-align: right;\n",
       "    }\n",
       "</style>\n",
       "<table border=\"1\" class=\"dataframe\">\n",
       "  <thead>\n",
       "    <tr style=\"text-align: right;\">\n",
       "      <th></th>\n",
       "      <th>AT</th>\n",
       "      <th>AP</th>\n",
       "      <th>AH</th>\n",
       "      <th>AFDP</th>\n",
       "      <th>GTEP</th>\n",
       "      <th>TIT</th>\n",
       "      <th>TAT</th>\n",
       "      <th>TEY</th>\n",
       "      <th>CDP</th>\n",
       "      <th>CO</th>\n",
       "      <th>NOX</th>\n",
       "    </tr>\n",
       "  </thead>\n",
       "  <tbody>\n",
       "    <tr>\n",
       "      <th>0</th>\n",
       "      <td>6.8594</td>\n",
       "      <td>1007.9</td>\n",
       "      <td>96.799</td>\n",
       "      <td>3.5000</td>\n",
       "      <td>19.663</td>\n",
       "      <td>1059.2</td>\n",
       "      <td>550.00</td>\n",
       "      <td>114.70</td>\n",
       "      <td>10.605</td>\n",
       "      <td>3.1547</td>\n",
       "      <td>82.722</td>\n",
       "    </tr>\n",
       "    <tr>\n",
       "      <th>1</th>\n",
       "      <td>6.7850</td>\n",
       "      <td>1008.4</td>\n",
       "      <td>97.118</td>\n",
       "      <td>3.4998</td>\n",
       "      <td>19.728</td>\n",
       "      <td>1059.3</td>\n",
       "      <td>550.00</td>\n",
       "      <td>114.72</td>\n",
       "      <td>10.598</td>\n",
       "      <td>3.2363</td>\n",
       "      <td>82.776</td>\n",
       "    </tr>\n",
       "    <tr>\n",
       "      <th>2</th>\n",
       "      <td>6.8977</td>\n",
       "      <td>1008.8</td>\n",
       "      <td>95.939</td>\n",
       "      <td>3.4824</td>\n",
       "      <td>19.779</td>\n",
       "      <td>1059.4</td>\n",
       "      <td>549.87</td>\n",
       "      <td>114.71</td>\n",
       "      <td>10.601</td>\n",
       "      <td>3.2012</td>\n",
       "      <td>82.468</td>\n",
       "    </tr>\n",
       "    <tr>\n",
       "      <th>3</th>\n",
       "      <td>7.0569</td>\n",
       "      <td>1009.2</td>\n",
       "      <td>95.249</td>\n",
       "      <td>3.4805</td>\n",
       "      <td>19.792</td>\n",
       "      <td>1059.6</td>\n",
       "      <td>549.99</td>\n",
       "      <td>114.72</td>\n",
       "      <td>10.606</td>\n",
       "      <td>3.1923</td>\n",
       "      <td>82.670</td>\n",
       "    </tr>\n",
       "    <tr>\n",
       "      <th>4</th>\n",
       "      <td>7.3978</td>\n",
       "      <td>1009.7</td>\n",
       "      <td>95.150</td>\n",
       "      <td>3.4976</td>\n",
       "      <td>19.765</td>\n",
       "      <td>1059.7</td>\n",
       "      <td>549.98</td>\n",
       "      <td>114.72</td>\n",
       "      <td>10.612</td>\n",
       "      <td>3.2484</td>\n",
       "      <td>82.311</td>\n",
       "    </tr>\n",
       "    <tr>\n",
       "      <th>...</th>\n",
       "      <td>...</td>\n",
       "      <td>...</td>\n",
       "      <td>...</td>\n",
       "      <td>...</td>\n",
       "      <td>...</td>\n",
       "      <td>...</td>\n",
       "      <td>...</td>\n",
       "      <td>...</td>\n",
       "      <td>...</td>\n",
       "      <td>...</td>\n",
       "      <td>...</td>\n",
       "    </tr>\n",
       "    <tr>\n",
       "      <th>15034</th>\n",
       "      <td>9.0301</td>\n",
       "      <td>1005.6</td>\n",
       "      <td>98.460</td>\n",
       "      <td>3.5421</td>\n",
       "      <td>19.164</td>\n",
       "      <td>1049.7</td>\n",
       "      <td>546.21</td>\n",
       "      <td>111.61</td>\n",
       "      <td>10.400</td>\n",
       "      <td>4.5186</td>\n",
       "      <td>79.559</td>\n",
       "    </tr>\n",
       "    <tr>\n",
       "      <th>15035</th>\n",
       "      <td>7.8879</td>\n",
       "      <td>1005.9</td>\n",
       "      <td>99.093</td>\n",
       "      <td>3.5059</td>\n",
       "      <td>19.414</td>\n",
       "      <td>1046.3</td>\n",
       "      <td>543.22</td>\n",
       "      <td>111.78</td>\n",
       "      <td>10.433</td>\n",
       "      <td>4.8470</td>\n",
       "      <td>79.917</td>\n",
       "    </tr>\n",
       "    <tr>\n",
       "      <th>15036</th>\n",
       "      <td>7.2647</td>\n",
       "      <td>1006.3</td>\n",
       "      <td>99.496</td>\n",
       "      <td>3.4770</td>\n",
       "      <td>19.530</td>\n",
       "      <td>1037.7</td>\n",
       "      <td>537.32</td>\n",
       "      <td>110.19</td>\n",
       "      <td>10.483</td>\n",
       "      <td>7.9632</td>\n",
       "      <td>90.912</td>\n",
       "    </tr>\n",
       "    <tr>\n",
       "      <th>15037</th>\n",
       "      <td>7.0060</td>\n",
       "      <td>1006.8</td>\n",
       "      <td>99.008</td>\n",
       "      <td>3.4486</td>\n",
       "      <td>19.377</td>\n",
       "      <td>1043.2</td>\n",
       "      <td>541.24</td>\n",
       "      <td>110.74</td>\n",
       "      <td>10.533</td>\n",
       "      <td>6.2494</td>\n",
       "      <td>93.227</td>\n",
       "    </tr>\n",
       "    <tr>\n",
       "      <th>15038</th>\n",
       "      <td>6.9279</td>\n",
       "      <td>1007.2</td>\n",
       "      <td>97.533</td>\n",
       "      <td>3.4275</td>\n",
       "      <td>19.306</td>\n",
       "      <td>1049.9</td>\n",
       "      <td>545.85</td>\n",
       "      <td>111.58</td>\n",
       "      <td>10.583</td>\n",
       "      <td>4.9816</td>\n",
       "      <td>92.498</td>\n",
       "    </tr>\n",
       "  </tbody>\n",
       "</table>\n",
       "<p>15039 rows × 11 columns</p>\n",
       "</div>"
      ],
      "text/plain": [
       "           AT      AP      AH    AFDP    GTEP     TIT     TAT     TEY     CDP  \\\n",
       "0      6.8594  1007.9  96.799  3.5000  19.663  1059.2  550.00  114.70  10.605   \n",
       "1      6.7850  1008.4  97.118  3.4998  19.728  1059.3  550.00  114.72  10.598   \n",
       "2      6.8977  1008.8  95.939  3.4824  19.779  1059.4  549.87  114.71  10.601   \n",
       "3      7.0569  1009.2  95.249  3.4805  19.792  1059.6  549.99  114.72  10.606   \n",
       "4      7.3978  1009.7  95.150  3.4976  19.765  1059.7  549.98  114.72  10.612   \n",
       "...       ...     ...     ...     ...     ...     ...     ...     ...     ...   \n",
       "15034  9.0301  1005.6  98.460  3.5421  19.164  1049.7  546.21  111.61  10.400   \n",
       "15035  7.8879  1005.9  99.093  3.5059  19.414  1046.3  543.22  111.78  10.433   \n",
       "15036  7.2647  1006.3  99.496  3.4770  19.530  1037.7  537.32  110.19  10.483   \n",
       "15037  7.0060  1006.8  99.008  3.4486  19.377  1043.2  541.24  110.74  10.533   \n",
       "15038  6.9279  1007.2  97.533  3.4275  19.306  1049.9  545.85  111.58  10.583   \n",
       "\n",
       "           CO     NOX  \n",
       "0      3.1547  82.722  \n",
       "1      3.2363  82.776  \n",
       "2      3.2012  82.468  \n",
       "3      3.1923  82.670  \n",
       "4      3.2484  82.311  \n",
       "...       ...     ...  \n",
       "15034  4.5186  79.559  \n",
       "15035  4.8470  79.917  \n",
       "15036  7.9632  90.912  \n",
       "15037  6.2494  93.227  \n",
       "15038  4.9816  92.498  \n",
       "\n",
       "[15039 rows x 11 columns]"
      ]
     },
     "execution_count": 3,
     "metadata": {},
     "output_type": "execute_result"
    }
   ],
   "source": [
    "gas = pd.read_csv(r'D:\\Downloads\\gas_turbines.csv')\n",
    "gas"
   ]
  },
  {
   "cell_type": "markdown",
   "id": "ec968dce",
   "metadata": {},
   "source": [
    "## Data understanding "
   ]
  },
  {
   "cell_type": "code",
   "execution_count": 4,
   "id": "d7680ebe",
   "metadata": {},
   "outputs": [
    {
     "data": {
      "text/plain": [
       "(15039, 11)"
      ]
     },
     "execution_count": 4,
     "metadata": {},
     "output_type": "execute_result"
    }
   ],
   "source": [
    "gas.shape"
   ]
  },
  {
   "cell_type": "code",
   "execution_count": 5,
   "id": "edfe4f09",
   "metadata": {},
   "outputs": [
    {
     "data": {
      "text/plain": [
       "AT      0\n",
       "AP      0\n",
       "AH      0\n",
       "AFDP    0\n",
       "GTEP    0\n",
       "TIT     0\n",
       "TAT     0\n",
       "TEY     0\n",
       "CDP     0\n",
       "CO      0\n",
       "NOX     0\n",
       "dtype: int64"
      ]
     },
     "execution_count": 5,
     "metadata": {},
     "output_type": "execute_result"
    }
   ],
   "source": [
    "gas.isna().sum()"
   ]
  },
  {
   "cell_type": "code",
   "execution_count": 6,
   "id": "8d4b6679",
   "metadata": {
    "scrolled": true
   },
   "outputs": [
    {
     "data": {
      "text/plain": [
       "AT      float64\n",
       "AP      float64\n",
       "AH      float64\n",
       "AFDP    float64\n",
       "GTEP    float64\n",
       "TIT     float64\n",
       "TAT     float64\n",
       "TEY     float64\n",
       "CDP     float64\n",
       "CO      float64\n",
       "NOX     float64\n",
       "dtype: object"
      ]
     },
     "execution_count": 6,
     "metadata": {},
     "output_type": "execute_result"
    }
   ],
   "source": [
    "gas.dtypes"
   ]
  },
  {
   "cell_type": "code",
   "execution_count": 7,
   "id": "c39d7767",
   "metadata": {},
   "outputs": [
    {
     "data": {
      "image/png": "[encoded data removed]",
      "text/plain": [
       "<Figure size 1080x720 with 12 Axes>"
      ]
     },
     "metadata": {
      "needs_background": "light"
     },
     "output_type": "display_data"
    }
   ],
   "source": [
    "fig, ax = plt.subplots(4,3, figsize=(15,10))\n",
    "sns.distplot(gas.AT, ax=ax[0,0])\n",
    "sns.distplot(gas.AP, ax=ax[0,1])\n",
    "sns.distplot(gas.AH, ax=ax[0,2])\n",
    "sns.distplot(gas.AFDP, ax=ax[1,0])\n",
    "sns.distplot(gas.GTEP, ax=ax[1,1])\n",
    "sns.distplot(gas.TIT, ax=ax[1,2])\n",
    "sns.distplot(gas.TAT, ax=ax[2,0])\n",
    "sns.distplot(gas.TEY, ax=ax[2,1])\n",
    "sns.distplot(gas.CDP, ax=ax[2,2])\n",
    "sns.distplot(gas.CO, ax=ax[3,0])\n",
    "sns.distplot(gas.NOX, ax=ax[3,1])\n",
    "\n",
    "plt.tight_layout()\n",
    "plt.show()"
   ]
  },
  {
   "cell_type": "code",
   "execution_count": 8,
   "id": "6c21f269",
   "metadata": {},
   "outputs": [
    {
     "data": {
      "image/png": "[encoded data removed]",
      "text/plain": [
       "<Figure size 1080x720 with 12 Axes>"
      ]
     },
     "metadata": {
      "needs_background": "light"
     },
     "output_type": "display_data"
    }
   ],
   "source": [
    "fig, ax = plt.subplots(4,3, figsize=(15,10))\n",
    "sns.boxplot(gas.AT, ax=ax[0,0])\n",
    "sns.boxplot(gas.AP, ax=ax[0,1])\n",
    "sns.boxplot(gas.AH, ax=ax[0,2])\n",
    "sns.boxplot(gas.AFDP, ax=ax[1,0])\n",
    "sns.boxplot(gas.GTEP, ax=ax[1,1])\n",
    "sns.boxplot(gas.TIT, ax=ax[1,2])\n",
    "sns.boxplot(gas.TAT, ax=ax[2,0])\n",
    "sns.boxplot(gas.TEY, ax=ax[2,1])\n",
    "sns.boxplot(gas.CDP, ax=ax[2,2])\n",
    "sns.boxplot(gas.CO, ax=ax[3,0])\n",
    "sns.boxplot(gas.NOX, ax=ax[3,1])\n",
    "\n",
    "plt.tight_layout()\n",
    "plt.show()"
   ]
  },
  {
   "cell_type": "markdown",
   "id": "c46f46b0",
   "metadata": {},
   "source": [
    "## Model Preparation"
   ]
  },
  {
   "cell_type": "code",
   "execution_count": 9,
   "id": "c000774c",
   "metadata": {},
   "outputs": [],
   "source": [
    "x = gas.drop('TEY' , axis= 1)\n",
    "y = gas[['TEY']]"
   ]
  },
  {
   "cell_type": "code",
   "execution_count": 10,
   "id": "be923d00",
   "metadata": {},
   "outputs": [
    {
     "data": {
      "text/html": [
       "<div>\n",
       "<style scoped>\n",
       "    .dataframe tbody tr th:only-of-type {\n",
       "        vertical-align: middle;\n",
       "    }\n",
       "\n",
       "    .dataframe tbody tr th {\n",
       "        vertical-align: top;\n",
       "    }\n",
       "\n",
       "    .dataframe thead th {\n",
       "        text-align: right;\n",
       "    }\n",
       "</style>\n",
       "<table border=\"1\" class=\"dataframe\">\n",
       "  <thead>\n",
       "    <tr style=\"text-align: right;\">\n",
       "      <th></th>\n",
       "      <th>AT</th>\n",
       "      <th>AP</th>\n",
       "      <th>AH</th>\n",
       "      <th>AFDP</th>\n",
       "      <th>GTEP</th>\n",
       "      <th>TIT</th>\n",
       "      <th>TAT</th>\n",
       "      <th>CDP</th>\n",
       "      <th>CO</th>\n",
       "      <th>NOX</th>\n",
       "    </tr>\n",
       "  </thead>\n",
       "  <tbody>\n",
       "    <tr>\n",
       "      <th>0</th>\n",
       "      <td>6.8594</td>\n",
       "      <td>1007.9</td>\n",
       "      <td>96.799</td>\n",
       "      <td>3.5000</td>\n",
       "      <td>19.663</td>\n",
       "      <td>1059.2</td>\n",
       "      <td>550.00</td>\n",
       "      <td>10.605</td>\n",
       "      <td>3.1547</td>\n",
       "      <td>82.722</td>\n",
       "    </tr>\n",
       "    <tr>\n",
       "      <th>1</th>\n",
       "      <td>6.7850</td>\n",
       "      <td>1008.4</td>\n",
       "      <td>97.118</td>\n",
       "      <td>3.4998</td>\n",
       "      <td>19.728</td>\n",
       "      <td>1059.3</td>\n",
       "      <td>550.00</td>\n",
       "      <td>10.598</td>\n",
       "      <td>3.2363</td>\n",
       "      <td>82.776</td>\n",
       "    </tr>\n",
       "    <tr>\n",
       "      <th>2</th>\n",
       "      <td>6.8977</td>\n",
       "      <td>1008.8</td>\n",
       "      <td>95.939</td>\n",
       "      <td>3.4824</td>\n",
       "      <td>19.779</td>\n",
       "      <td>1059.4</td>\n",
       "      <td>549.87</td>\n",
       "      <td>10.601</td>\n",
       "      <td>3.2012</td>\n",
       "      <td>82.468</td>\n",
       "    </tr>\n",
       "    <tr>\n",
       "      <th>3</th>\n",
       "      <td>7.0569</td>\n",
       "      <td>1009.2</td>\n",
       "      <td>95.249</td>\n",
       "      <td>3.4805</td>\n",
       "      <td>19.792</td>\n",
       "      <td>1059.6</td>\n",
       "      <td>549.99</td>\n",
       "      <td>10.606</td>\n",
       "      <td>3.1923</td>\n",
       "      <td>82.670</td>\n",
       "    </tr>\n",
       "    <tr>\n",
       "      <th>4</th>\n",
       "      <td>7.3978</td>\n",
       "      <td>1009.7</td>\n",
       "      <td>95.150</td>\n",
       "      <td>3.4976</td>\n",
       "      <td>19.765</td>\n",
       "      <td>1059.7</td>\n",
       "      <td>549.98</td>\n",
       "      <td>10.612</td>\n",
       "      <td>3.2484</td>\n",
       "      <td>82.311</td>\n",
       "    </tr>\n",
       "    <tr>\n",
       "      <th>...</th>\n",
       "      <td>...</td>\n",
       "      <td>...</td>\n",
       "      <td>...</td>\n",
       "      <td>...</td>\n",
       "      <td>...</td>\n",
       "      <td>...</td>\n",
       "      <td>...</td>\n",
       "      <td>...</td>\n",
       "      <td>...</td>\n",
       "      <td>...</td>\n",
       "    </tr>\n",
       "    <tr>\n",
       "      <th>15034</th>\n",
       "      <td>9.0301</td>\n",
       "      <td>1005.6</td>\n",
       "      <td>98.460</td>\n",
       "      <td>3.5421</td>\n",
       "      <td>19.164</td>\n",
       "      <td>1049.7</td>\n",
       "      <td>546.21</td>\n",
       "      <td>10.400</td>\n",
       "      <td>4.5186</td>\n",
       "      <td>79.559</td>\n",
       "    </tr>\n",
       "    <tr>\n",
       "      <th>15035</th>\n",
       "      <td>7.8879</td>\n",
       "      <td>1005.9</td>\n",
       "      <td>99.093</td>\n",
       "      <td>3.5059</td>\n",
       "      <td>19.414</td>\n",
       "      <td>1046.3</td>\n",
       "      <td>543.22</td>\n",
       "      <td>10.433</td>\n",
       "      <td>4.8470</td>\n",
       "      <td>79.917</td>\n",
       "    </tr>\n",
       "    <tr>\n",
       "      <th>15036</th>\n",
       "      <td>7.2647</td>\n",
       "      <td>1006.3</td>\n",
       "      <td>99.496</td>\n",
       "      <td>3.4770</td>\n",
       "      <td>19.530</td>\n",
       "      <td>1037.7</td>\n",
       "      <td>537.32</td>\n",
       "      <td>10.483</td>\n",
       "      <td>7.9632</td>\n",
       "      <td>90.912</td>\n",
       "    </tr>\n",
       "    <tr>\n",
       "      <th>15037</th>\n",
       "      <td>7.0060</td>\n",
       "      <td>1006.8</td>\n",
       "      <td>99.008</td>\n",
       "      <td>3.4486</td>\n",
       "      <td>19.377</td>\n",
       "      <td>1043.2</td>\n",
       "      <td>541.24</td>\n",
       "      <td>10.533</td>\n",
       "      <td>6.2494</td>\n",
       "      <td>93.227</td>\n",
       "    </tr>\n",
       "    <tr>\n",
       "      <th>15038</th>\n",
       "      <td>6.9279</td>\n",
       "      <td>1007.2</td>\n",
       "      <td>97.533</td>\n",
       "      <td>3.4275</td>\n",
       "      <td>19.306</td>\n",
       "      <td>1049.9</td>\n",
       "      <td>545.85</td>\n",
       "      <td>10.583</td>\n",
       "      <td>4.9816</td>\n",
       "      <td>92.498</td>\n",
       "    </tr>\n",
       "  </tbody>\n",
       "</table>\n",
       "<p>15039 rows × 10 columns</p>\n",
       "</div>"
      ],
      "text/plain": [
       "           AT      AP      AH    AFDP    GTEP     TIT     TAT     CDP      CO  \\\n",
       "0      6.8594  1007.9  96.799  3.5000  19.663  1059.2  550.00  10.605  3.1547   \n",
       "1      6.7850  1008.4  97.118  3.4998  19.728  1059.3  550.00  10.598  3.2363   \n",
       "2      6.8977  1008.8  95.939  3.4824  19.779  1059.4  549.87  10.601  3.2012   \n",
       "3      7.0569  1009.2  95.249  3.4805  19.792  1059.6  549.99  10.606  3.1923   \n",
       "4      7.3978  1009.7  95.150  3.4976  19.765  1059.7  549.98  10.612  3.2484   \n",
       "...       ...     ...     ...     ...     ...     ...     ...     ...     ...   \n",
       "15034  9.0301  1005.6  98.460  3.5421  19.164  1049.7  546.21  10.400  4.5186   \n",
       "15035  7.8879  1005.9  99.093  3.5059  19.414  1046.3  543.22  10.433  4.8470   \n",
       "15036  7.2647  1006.3  99.496  3.4770  19.530  1037.7  537.32  10.483  7.9632   \n",
       "15037  7.0060  1006.8  99.008  3.4486  19.377  1043.2  541.24  10.533  6.2494   \n",
       "15038  6.9279  1007.2  97.533  3.4275  19.306  1049.9  545.85  10.583  4.9816   \n",
       "\n",
       "          NOX  \n",
       "0      82.722  \n",
       "1      82.776  \n",
       "2      82.468  \n",
       "3      82.670  \n",
       "4      82.311  \n",
       "...       ...  \n",
       "15034  79.559  \n",
       "15035  79.917  \n",
       "15036  90.912  \n",
       "15037  93.227  \n",
       "15038  92.498  \n",
       "\n",
       "[15039 rows x 10 columns]"
      ]
     },
     "execution_count": 10,
     "metadata": {},
     "output_type": "execute_result"
    }
   ],
   "source": [
    "x"
   ]
  },
  {
   "cell_type": "code",
   "execution_count": 11,
   "id": "886cf594",
   "metadata": {},
   "outputs": [
    {
     "data": {
      "text/html": [
       "<div>\n",
       "<style scoped>\n",
       "    .dataframe tbody tr th:only-of-type {\n",
       "        vertical-align: middle;\n",
       "    }\n",
       "\n",
       "    .dataframe tbody tr th {\n",
       "        vertical-align: top;\n",
       "    }\n",
       "\n",
       "    .dataframe thead th {\n",
       "        text-align: right;\n",
       "    }\n",
       "</style>\n",
       "<table border=\"1\" class=\"dataframe\">\n",
       "  <thead>\n",
       "    <tr style=\"text-align: right;\">\n",
       "      <th></th>\n",
       "      <th>TEY</th>\n",
       "    </tr>\n",
       "  </thead>\n",
       "  <tbody>\n",
       "    <tr>\n",
       "      <th>0</th>\n",
       "      <td>114.70</td>\n",
       "    </tr>\n",
       "    <tr>\n",
       "      <th>1</th>\n",
       "      <td>114.72</td>\n",
       "    </tr>\n",
       "    <tr>\n",
       "      <th>2</th>\n",
       "      <td>114.71</td>\n",
       "    </tr>\n",
       "    <tr>\n",
       "      <th>3</th>\n",
       "      <td>114.72</td>\n",
       "    </tr>\n",
       "    <tr>\n",
       "      <th>4</th>\n",
       "      <td>114.72</td>\n",
       "    </tr>\n",
       "    <tr>\n",
       "      <th>...</th>\n",
       "      <td>...</td>\n",
       "    </tr>\n",
       "    <tr>\n",
       "      <th>15034</th>\n",
       "      <td>111.61</td>\n",
       "    </tr>\n",
       "    <tr>\n",
       "      <th>15035</th>\n",
       "      <td>111.78</td>\n",
       "    </tr>\n",
       "    <tr>\n",
       "      <th>15036</th>\n",
       "      <td>110.19</td>\n",
       "    </tr>\n",
       "    <tr>\n",
       "      <th>15037</th>\n",
       "      <td>110.74</td>\n",
       "    </tr>\n",
       "    <tr>\n",
       "      <th>15038</th>\n",
       "      <td>111.58</td>\n",
       "    </tr>\n",
       "  </tbody>\n",
       "</table>\n",
       "<p>15039 rows × 1 columns</p>\n",
       "</div>"
      ],
      "text/plain": [
       "          TEY\n",
       "0      114.70\n",
       "1      114.72\n",
       "2      114.71\n",
       "3      114.72\n",
       "4      114.72\n",
       "...       ...\n",
       "15034  111.61\n",
       "15035  111.78\n",
       "15036  110.19\n",
       "15037  110.74\n",
       "15038  111.58\n",
       "\n",
       "[15039 rows x 1 columns]"
      ]
     },
     "execution_count": 11,
     "metadata": {},
     "output_type": "execute_result"
    }
   ],
   "source": [
    "y"
   ]
  },
  {
   "cell_type": "markdown",
   "id": "6aaa81cf",
   "metadata": {},
   "source": [
    "##  Model Building"
   ]
  },
  {
   "cell_type": "code",
   "execution_count": 12,
   "id": "ab87855c",
   "metadata": {},
   "outputs": [],
   "source": [
    "x_train , x_test , y_train , y_test = train_test_split(x , y , test_size= 0.20 )"
   ]
  },
  {
   "cell_type": "code",
   "execution_count": 13,
   "id": "1a3ddf2f",
   "metadata": {},
   "outputs": [],
   "source": [
    "model = Sequential()\n",
    "model.add(Dense(12, input_dim = 10, kernel_initializer = 'uniform', activation = 'relu'))\n",
    "model.add(Dense(8,  kernel_initializer = 'uniform', activation = 'relu'))\n",
    "model.add(Dense(1,  kernel_initializer = 'uniform', activation = 'linear'))"
   ]
  },
  {
   "cell_type": "code",
   "execution_count": 14,
   "id": "af720cda",
   "metadata": {},
   "outputs": [],
   "source": [
    "model.compile(loss = 'mse', optimizer='adam', metrics=['accuracy'])"
   ]
  },
  {
   "cell_type": "markdown",
   "id": "5193c386",
   "metadata": {},
   "source": [
    "## Model Training"
   ]
  },
  {
   "cell_type": "code",
   "execution_count": 18,
   "id": "589ec52c",
   "metadata": {
    "scrolled": false
   },
   "outputs": [
    {
     "name": "stdout",
     "output_type": "stream",
     "text": [
      "Epoch 1/50\n",
      "806/806 [==============================] - 4s 5ms/step - loss: 1.5041 - accuracy: 0.0000e+00 - val_loss: 1.3010 - val_accuracy: 0.0000e+00\n",
      "Epoch 2/50\n",
      "806/806 [==============================] - 4s 5ms/step - loss: 1.6479 - accuracy: 0.0000e+00 - val_loss: 1.4151 - val_accuracy: 0.0000e+00\n",
      "Epoch 3/50\n",
      "806/806 [==============================] - 5s 6ms/step - loss: 1.5640 - accuracy: 0.0000e+00 - val_loss: 1.3604 - val_accuracy: 0.0000e+00\n",
      "Epoch 4/50\n",
      "806/806 [==============================] - 3s 4ms/step - loss: 1.5836 - accuracy: 0.0000e+00 - val_loss: 1.2267 - val_accuracy: 0.0000e+00\n",
      "Epoch 5/50\n",
      "806/806 [==============================] - 3s 4ms/step - loss: 1.5571 - accuracy: 0.0000e+00 - val_loss: 1.2133 - val_accuracy: 0.0000e+00\n",
      "Epoch 6/50\n",
      "806/806 [==============================] - 3s 4ms/step - loss: 1.6123 - accuracy: 0.0000e+00 - val_loss: 1.3503 - val_accuracy: 0.0000e+00\n",
      "Epoch 7/50\n",
      "806/806 [==============================] - 4s 4ms/step - loss: 1.5691 - accuracy: 0.0000e+00 - val_loss: 1.2713 - val_accuracy: 0.0000e+00\n",
      "Epoch 8/50\n",
      "806/806 [==============================] - 5s 6ms/step - loss: 1.5582 - accuracy: 0.0000e+00 - val_loss: 1.5512 - val_accuracy: 0.0000e+00\n",
      "Epoch 9/50\n",
      "806/806 [==============================] - 5s 7ms/step - loss: 1.5885 - accuracy: 0.0000e+00 - val_loss: 2.1262 - val_accuracy: 0.0000e+00\n",
      "Epoch 10/50\n",
      "806/806 [==============================] - 4s 5ms/step - loss: 1.5753 - accuracy: 0.0000e+00 - val_loss: 1.2485 - val_accuracy: 0.0000e+00\n",
      "Epoch 11/50\n",
      "806/806 [==============================] - 5s 6ms/step - loss: 1.5721 - accuracy: 0.0000e+00 - val_loss: 1.2368 - val_accuracy: 0.0000e+00\n",
      "Epoch 12/50\n",
      "806/806 [==============================] - 3s 4ms/step - loss: 1.5786 - accuracy: 0.0000e+00 - val_loss: 1.2384 - val_accuracy: 0.0000e+00\n",
      "Epoch 13/50\n",
      "806/806 [==============================] - 3s 4ms/step - loss: 1.5606 - accuracy: 0.0000e+00 - val_loss: 2.3291 - val_accuracy: 0.0000e+00\n",
      "Epoch 14/50\n",
      "806/806 [==============================] - 3s 4ms/step - loss: 1.6388 - accuracy: 0.0000e+00 - val_loss: 1.2108 - val_accuracy: 0.0000e+00\n",
      "Epoch 15/50\n",
      "806/806 [==============================] - 3s 4ms/step - loss: 1.5280 - accuracy: 0.0000e+00 - val_loss: 1.3497 - val_accuracy: 0.0000e+00\n",
      "Epoch 16/50\n",
      "806/806 [==============================] - 3s 4ms/step - loss: 1.5999 - accuracy: 0.0000e+00 - val_loss: 1.4116 - val_accuracy: 0.0000e+00\n",
      "Epoch 17/50\n",
      "806/806 [==============================] - 3s 4ms/step - loss: 1.5387 - accuracy: 0.0000e+00 - val_loss: 3.5139 - val_accuracy: 0.0000e+00\n",
      "Epoch 18/50\n",
      "806/806 [==============================] - 3s 4ms/step - loss: 1.5135 - accuracy: 0.0000e+00 - val_loss: 1.2271 - val_accuracy: 0.0000e+00\n",
      "Epoch 19/50\n",
      "806/806 [==============================] - 3s 4ms/step - loss: 1.6285 - accuracy: 0.0000e+00 - val_loss: 1.1994 - val_accuracy: 0.0000e+00\n",
      "Epoch 20/50\n",
      "806/806 [==============================] - 5s 7ms/step - loss: 1.4927 - accuracy: 0.0000e+00 - val_loss: 1.5702 - val_accuracy: 0.0000e+00\n",
      "Epoch 21/50\n",
      "806/806 [==============================] - 5s 6ms/step - loss: 1.4965 - accuracy: 0.0000e+00 - val_loss: 1.2162 - val_accuracy: 0.0000e+00\n",
      "Epoch 22/50\n",
      "806/806 [==============================] - 5s 6ms/step - loss: 1.6041 - accuracy: 0.0000e+00 - val_loss: 1.2436 - val_accuracy: 0.0000e+00\n",
      "Epoch 23/50\n",
      "806/806 [==============================] - 4s 5ms/step - loss: 1.5574 - accuracy: 0.0000e+00 - val_loss: 2.2251 - val_accuracy: 0.0000e+00\n",
      "Epoch 24/50\n",
      "806/806 [==============================] - 4s 5ms/step - loss: 1.5347 - accuracy: 0.0000e+00 - val_loss: 1.3165 - val_accuracy: 0.0000e+00\n",
      "Epoch 25/50\n",
      "806/806 [==============================] - 5s 6ms/step - loss: 1.6101 - accuracy: 0.0000e+00 - val_loss: 1.1943 - val_accuracy: 0.0000e+00\n",
      "Epoch 26/50\n",
      "806/806 [==============================] - 5s 6ms/step - loss: 1.5933 - accuracy: 0.0000e+00 - val_loss: 1.3841 - val_accuracy: 0.0000e+00\n",
      "Epoch 27/50\n",
      "806/806 [==============================] - 5s 6ms/step - loss: 1.4924 - accuracy: 0.0000e+00 - val_loss: 1.6466 - val_accuracy: 0.0000e+00\n",
      "Epoch 28/50\n",
      "806/806 [==============================] - 5s 6ms/step - loss: 1.5939 - accuracy: 0.0000e+00 - val_loss: 1.2829 - val_accuracy: 0.0000e+00\n",
      "Epoch 29/50\n",
      "806/806 [==============================] - 5s 6ms/step - loss: 1.5365 - accuracy: 0.0000e+00 - val_loss: 1.2596 - val_accuracy: 0.0000e+00\n",
      "Epoch 30/50\n",
      "806/806 [==============================] - 4s 5ms/step - loss: 1.5711 - accuracy: 0.0000e+00 - val_loss: 2.1537 - val_accuracy: 0.0000e+00\n",
      "Epoch 31/50\n",
      "806/806 [==============================] - 4s 5ms/step - loss: 1.4837 - accuracy: 0.0000e+00 - val_loss: 1.2838 - val_accuracy: 0.0000e+00\n",
      "Epoch 32/50\n",
      "806/806 [==============================] - 4s 5ms/step - loss: 1.5255 - accuracy: 0.0000e+00 - val_loss: 1.5839 - val_accuracy: 0.0000e+00\n",
      "Epoch 33/50\n",
      "806/806 [==============================] - 5s 6ms/step - loss: 1.5077 - accuracy: 0.0000e+00 - val_loss: 1.2436 - val_accuracy: 0.0000e+00\n",
      "Epoch 34/50\n",
      "806/806 [==============================] - 4s 5ms/step - loss: 1.4988 - accuracy: 0.0000e+00 - val_loss: 2.9133 - val_accuracy: 0.0000e+00\n",
      "Epoch 35/50\n",
      "806/806 [==============================] - 4s 5ms/step - loss: 1.5421 - accuracy: 0.0000e+00 - val_loss: 1.4530 - val_accuracy: 0.0000e+00\n",
      "Epoch 36/50\n",
      "806/806 [==============================] - 4s 5ms/step - loss: 1.4801 - accuracy: 0.0000e+00 - val_loss: 1.1848 - val_accuracy: 0.0000e+00\n",
      "Epoch 37/50\n",
      "806/806 [==============================] - 4s 5ms/step - loss: 1.5484 - accuracy: 0.0000e+00 - val_loss: 1.8588 - val_accuracy: 0.0000e+00\n",
      "Epoch 38/50\n",
      "806/806 [==============================] - 5s 7ms/step - loss: 1.5140 - accuracy: 0.0000e+00 - val_loss: 1.2887 - val_accuracy: 0.0000e+00\n",
      "Epoch 39/50\n",
      "806/806 [==============================] - 4s 4ms/step - loss: 1.6431 - accuracy: 0.0000e+00 - val_loss: 1.7130 - val_accuracy: 0.0000e+00\n",
      "Epoch 40/50\n",
      "806/806 [==============================] - 4s 5ms/step - loss: 1.4583 - accuracy: 0.0000e+00 - val_loss: 1.5253 - val_accuracy: 0.0000e+00\n",
      "Epoch 41/50\n",
      "806/806 [==============================] - 5s 6ms/step - loss: 1.5909 - accuracy: 0.0000e+00 - val_loss: 4.9025 - val_accuracy: 0.0000e+00\n",
      "Epoch 42/50\n",
      "806/806 [==============================] - 5s 6ms/step - loss: 1.4772 - accuracy: 0.0000e+00 - val_loss: 1.3276 - val_accuracy: 0.0000e+00\n",
      "Epoch 43/50\n",
      "806/806 [==============================] - 5s 6ms/step - loss: 1.5684 - accuracy: 0.0000e+00 - val_loss: 1.5239 - val_accuracy: 0.0000e+00\n",
      "Epoch 44/50\n",
      "806/806 [==============================] - 5s 6ms/step - loss: 1.4479 - accuracy: 0.0000e+00 - val_loss: 1.5079 - val_accuracy: 0.0000e+00\n",
      "Epoch 45/50\n",
      "806/806 [==============================] - 5s 6ms/step - loss: 1.4550 - accuracy: 0.0000e+00 - val_loss: 1.1787 - val_accuracy: 0.0000e+00\n",
      "Epoch 46/50\n",
      "806/806 [==============================] - 4s 5ms/step - loss: 1.5892 - accuracy: 0.0000e+00 - val_loss: 1.6808 - val_accuracy: 0.0000e+00\n",
      "Epoch 47/50\n",
      "806/806 [==============================] - 4s 5ms/step - loss: 1.5355 - accuracy: 0.0000e+00 - val_loss: 1.2120 - val_accuracy: 0.0000e+00\n",
      "Epoch 48/50\n",
      "806/806 [==============================] - 5s 6ms/step - loss: 1.4879 - accuracy: 0.0000e+00 - val_loss: 3.5704 - val_accuracy: 0.0000e+00\n",
      "Epoch 49/50\n",
      "806/806 [==============================] - 4s 5ms/step - loss: 1.5433 - accuracy: 0.0000e+00 - val_loss: 1.1767 - val_accuracy: 0.0000e+00\n",
      "Epoch 50/50\n",
      "806/806 [==============================] - 4s 5ms/step - loss: 1.4881 - accuracy: 0.0000e+00 - val_loss: 1.1756 - val_accuracy: 0.0000e+00\n"
     ]
    },
    {
     "data": {
      "text/plain": [
       "<keras.callbacks.History at 0x135063b0970>"
      ]
     },
     "execution_count": 18,
     "metadata": {},
     "output_type": "execute_result"
    }
   ],
   "source": [
    "gas1 = model.fit(x_train, y_train, validation_split=0.33, epochs=50, batch_size=10)\n",
    "gas1"
   ]
  },
  {
   "cell_type": "markdown",
   "id": "c513ca95",
   "metadata": {},
   "source": [
    "## Model Evaluation"
   ]
  },
  {
   "cell_type": "code",
   "execution_count": 19,
   "id": "3bae7a60",
   "metadata": {},
   "outputs": [
    {
     "name": "stdout",
     "output_type": "stream",
     "text": [
      "94/94 [==============================] - 0s 2ms/step - loss: 1.1983 - accuracy: 0.0000e+00\n"
     ]
    },
    {
     "data": {
      "text/plain": [
       "[1.1983155012130737, 0.0]"
      ]
     },
     "execution_count": 19,
     "metadata": {},
     "output_type": "execute_result"
    }
   ],
   "source": [
    "model.evaluate(x_test,y_test)"
   ]
  },
  {
   "cell_type": "markdown",
   "id": "b6e56e6c",
   "metadata": {},
   "source": [
    "## Model Performance"
   ]
  },
  {
   "cell_type": "code",
   "execution_count": 20,
   "id": "f33d8222",
   "metadata": {
    "scrolled": true
   },
   "outputs": [
    {
     "data": {
      "image/png": "[encoded data removed]",
      "text/plain": [
       "<Figure size 432x288 with 1 Axes>"
      ]
     },
     "metadata": {
      "needs_background": "light"
     },
     "output_type": "display_data"
    }
   ],
   "source": [
    "plt.plot(gas1.history['loss'] , label = 'Train loss')\n",
    "plt.plot(gas1.history['val_loss'] , label = 'Test loss')\n",
    "plt.xlabel('Epochs')\n",
    "plt.ylabel('Loss')\n",
    "plt.title('Model Loss Performance')\n",
    "plt.legend()\n",
    "plt.show()"
   ]
  }
 ],
 "metadata": {
  "kernelspec": {
   "display_name": "Python 3 (ipykernel)",
   "language": "python",
   "name": "python3"
  },
  "language_info": {
   "codemirror_mode": {
    "name": "ipython",
    "version": 3
   },
   "file_extension": ".py",
   "mimetype": "text/x-python",
   "name": "python",
   "nbconvert_exporter": "python",
   "pygments_lexer": "ipython3",
   "version": "3.9.12"
  }
 },
 "nbformat": 4,
 "nbformat_minor": 5
}
